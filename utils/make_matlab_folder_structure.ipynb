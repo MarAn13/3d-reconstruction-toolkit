{
 "cells": [
  {
   "cell_type": "code",
   "execution_count": 6,
   "metadata": {},
   "outputs": [
    {
     "data": {
      "application/vnd.jupyter.widget-view+json": {
       "model_id": "f2e09db206cc47d8b46c2aa98b5cec45",
       "version_major": 2,
       "version_minor": 0
      },
      "text/plain": [
       "Results processing..:   0%|          | 0/8 [00:00<?, ?it/s]"
      ]
     },
     "metadata": {},
     "output_type": "display_data"
    }
   ],
   "source": [
    "from tqdm.auto import tqdm\n",
    "import os\n",
    "import shutil\n",
    "\n",
    "def make_structure(path_to_results, path_to_folder):\n",
    "    \"\"\"\n",
    "    path_to_results:\n",
    "        */bowl or */orange or */teddybear\n",
    "    path_to_folder: path to resulting folder structure\n",
    "    \"\"\"\n",
    "    for filename in tqdm(os.listdir(path_to_results), desc='Results processing..'):\n",
    "        file_path = os.path.abspath(path_to_results + '\\\\' + filename)\n",
    "        path_to_file_folder = path_to_folder + '\\\\' + filename.split('.')[0]\n",
    "        os.mkdir(path_to_file_folder)\n",
    "        path_to_file_folder_mvs = path_to_file_folder + '\\\\mvs'\n",
    "        os.mkdir(path_to_file_folder_mvs)\n",
    "        new_file_path = path_to_file_folder_mvs + '\\\\' + filename\n",
    "        shutil.copyfile(file_path, new_file_path)\n",
    "\n",
    "path_to_results = r\"<PATH TO RESULTS>\"\n",
    "path_to_folder = r\"<PATH TO FOLDER>\"\n",
    "make_structure(path_to_results, path_to_folder)"
   ]
  },
  {
   "cell_type": "code",
   "execution_count": null,
   "metadata": {},
   "outputs": [],
   "source": []
  }
 ],
 "metadata": {
  "kernelspec": {
   "display_name": "unn_cw",
   "language": "python",
   "name": "python3"
  },
  "language_info": {
   "codemirror_mode": {
    "name": "ipython",
    "version": 3
   },
   "file_extension": ".py",
   "mimetype": "text/x-python",
   "name": "python",
   "nbconvert_exporter": "python",
   "pygments_lexer": "ipython3",
   "version": "3.10.14"
  }
 },
 "nbformat": 4,
 "nbformat_minor": 2
}
