{
 "cells": [
  {
   "cell_type": "code",
   "execution_count": null,
   "metadata": {},
   "outputs": [],
   "source": [
    "import numpy as np\n",
    "import cv2\n",
    "from detection import detect_objects\n",
    "import os\n",
    "import copy\n",
    "import json\n",
    "import matplotlib.pyplot as plt\n",
    "from tqdm import tqdm"
   ]
  },
  {
   "cell_type": "code",
   "execution_count": null,
   "metadata": {},
   "outputs": [],
   "source": [
    "def select_frames(video_path, dst_path, n_frames=100):\n",
    "    # parameters:\n",
    "    #   video_path - absolute or relative path to video file\n",
    "    #   dst_path - absolute or relative path to result frames folder\n",
    "    #   n_frames - number of frames to sample\n",
    "    cap = cv2.VideoCapture(video_path)\n",
    "    count = 0\n",
    "    fps = int(cap.get(cv2.CAP_PROP_FPS))\n",
    "    total_frames = int(cap.get(cv2.CAP_PROP_FRAME_COUNT))\n",
    "    frame_list = np.linspace(0, total_frames, n_frames, dtype=int)\n",
    "    # folder = video_path.split('.')[0]\n",
    "    frame_count = 0\n",
    "    print('video fps:', fps)\n",
    "    print('video total frames:', total_frames)\n",
    "    while cap.isOpened():\n",
    "        ret, frame = cap.read()\n",
    "        if not ret:\n",
    "            break\n",
    "        if count in frame_list:\n",
    "            cv2.imwrite(f'{dst_path}/frame{str(frame_count).zfill(6)}.jpg', frame)\n",
    "            frame_count += 1\n",
    "        count += 1\n",
    "    cap.release()\n",
    "    cv2.destroyAllWindows()\n",
    "    print('Frame selection: done')"
   ]
  },
  {
   "cell_type": "code",
   "execution_count": null,
   "metadata": {},
   "outputs": [],
   "source": [
    "thresholds = {\n",
    "    'bowl': 250,\n",
    "    'orange': 200,\n",
    "    'teddybear': 200\n",
    "}\n",
    "def get_co3d_masks(mask_path, threshold):\n",
    "    # parameters:\n",
    "    #   mask_path - absolute or relative path to mask folder\n",
    "    for file in tqdm(os.listdir(mask_path), desc='CO3D mask processing..'):\n",
    "        img = cv2.imread(mask_path + '/' + file)\n",
    "        img_w = copy.deepcopy(img)\n",
    "        img_w[img_w >= threshold] = 255\n",
    "        img_w[img_w < threshold] = 0\n",
    "        cv2.imwrite(mask_path + '/' + file, img_w)\n",
    "\n",
    "        \n",
    "def get_colmap_masks(mask_path):\n",
    "    # parameters:\n",
    "    #   mask_path - absolute or relative path to mask folder\n",
    "    for file in tqdm(os.listdir(mask_path), desc='COLMAP mask processing..'):\n",
    "        file = os.path.abspath(mask_path + '\\\\' + file)\n",
    "        new_file = '\\\\'.join(file.split('\\\\')[:-1]) + \\\n",
    "        '\\\\' + \\\n",
    "        file.split('\\\\')[-1].replace('mask', 'frame')\n",
    "        os.rename(file, new_file + '.png')\n",
    "        \n",
    "        \n",
    "def get_masks(frame_path, mask_path, coco_class, frame_process=None, colmap_process=False):\n",
    "#folder_path = r\"C:\\Users\\marem\\PycharmProjects\\home\\projects\\unn\\cw_1\\frame_selector\\frames\\chair_auto\"\n",
    "    # parameters:\n",
    "    #   frame_path - absolute or relative path to frames folder\n",
    "    #   mask_path - absolute or relative path to mask folder\n",
    "    #   coco_class - COCO class to recognize\n",
    "    #   frame_process - what to do with frames on which object was not recognized:\n",
    "    #     delete - delete such frames\n",
    "    #     mask - make full frame masks for such frames\n",
    "    #   colmap_process - whether to process masks for COLMAP format or not\n",
    "    result = detect_objects(frame_path)\n",
    "    folder_prefix = frame_path.split('\\\\')[-1]\n",
    "    names_list = []\n",
    "    for file in os.listdir(mask_path):\n",
    "        file = os.path.abspath(mask_path + file)\n",
    "        os.remove(file)\n",
    "    for i, res in enumerate(tqdm(result, desc='Mask processing..')):\n",
    "        best_obj = None\n",
    "        best_obj_score = -1\n",
    "        best_obj_area = -1\n",
    "        for obj in res[1]:\n",
    "            obj_coords = np.array(obj[1], dtype='int')\n",
    "            obj_area = abs(obj_coords[1]-obj_coords[3]) * abs(obj_coords[0]-obj_coords[2])\n",
    "            if obj[0] == coco_class:\n",
    "                if obj_area > best_obj_area:\n",
    "                    best_obj = obj\n",
    "                    best_obj_area = obj_area\n",
    "\n",
    "        if best_obj is None:\n",
    "            continue\n",
    "        names_list.append(res[0])\n",
    "        coords = np.array(best_obj[1], dtype='int')\n",
    "        img = cv2.imread(res[0])\n",
    "        gray = cv2.cvtColor(img, cv2.COLOR_BGR2GRAY)\n",
    "        gray[:, :] = 0\n",
    "        gray[coords[1]:coords[3], coords[0]:coords[2]]=255\n",
    "        mask_name = res[0].split('\\\\')[-1].replace('frame', 'mask')\n",
    "        cv2.imwrite(mask_path + mask_name, gray)\n",
    "    \n",
    "    if frame_process == 'delete':\n",
    "        for file in tqdm(os.listdir(frame_path), desc='Frame deletion..'):\n",
    "            file = os.path.abspath(frame_path + '/' + file)\n",
    "            if file not in names_list:\n",
    "                os.remove(file)\n",
    "    elif frame_process == 'mask':\n",
    "        for file in tqdm(os.listdir(frame_path), desc='Frame masking..'):\n",
    "            file = os.path.abspath(frame_path + '/' + file)\n",
    "            if file not in names_list:\n",
    "                img = cv2.imread(file)\n",
    "                gray = cv2.cvtColor(img, cv2.COLOR_BGR2GRAY)\n",
    "                gray[:, :] = 255\n",
    "                mask_name = file.split('\\\\')[-1].replace('frame', 'mask')\n",
    "                cv2.imwrite(mask_path + mask_name, gray)\n",
    "    if colmap_process:\n",
    "        get_colmap_masks(mask_path)\n",
    "    if co3d_threshold is not None:\n",
    "        get_co3d_masks(mask_path, co3d_threshold)\n",
    "    print('Masks processing: done')"
   ]
  },
  {
   "cell_type": "code",
   "execution_count": 11,
   "metadata": {},
   "outputs": [
    {
     "name": "stderr",
     "output_type": "stream",
     "text": [
      "OpenMVS mask processing..: 100%|██████████| 100/100 [00:00<00:00, 2088.76it/s]\n"
     ]
    }
   ],
   "source": [
    "import os\n",
    "import shutil\n",
    "from tqdm import tqdm\n",
    "\n",
    "# get OpenMVS formatted masks from COLMAP masks (frame000001.jpg.png -> frame000001.mask.png)\n",
    "# MASKS IN OPENMVS ARE NOT WORKING AS EXPECTED\n",
    "def get_openmvs_masks(path_to_colmap_masks, path_to_openmvs_masks):\n",
    "    for filename in tqdm(os.listdir(path_to_colmap_masks), desc='OpenMVS mask processing..'):\n",
    "        file_path = os.path.abspath(path_to_colmap_masks + '\\\\' + filename)\n",
    "        new_file_path = path_to_openmvs_masks + '\\\\' + file_path.split('\\\\')[-1].split('.')[0] + '.mask.png'\n",
    "        shutil.copyfile(file_path, new_file_path)\n",
    "\n",
    "get_openmvs_masks(r\"<PATH TO MASKS SEGMENT>\", r\"<PATH TO MASKS OPENMVS>\")"
   ]
  },
  {
   "cell_type": "code",
   "execution_count": 15,
   "metadata": {},
   "outputs": [
    {
     "name": "stderr",
     "output_type": "stream",
     "text": [
      "Mask filenames storing..: 100%|██████████| 100/100 [00:00<00:00, 100031.10it/s]\n"
     ]
    },
    {
     "name": "stderr",
     "output_type": "stream",
     "text": [
      "Images copying..: 100%|██████████| 202/202 [00:00<00:00, 2728.43it/s]\n"
     ]
    }
   ],
   "source": [
    "# get images from all images based on available masks\n",
    "def get_images_from_masks(path_to_all_images, path_to_masks, path_to_images):\n",
    "    frame_names = list()\n",
    "    for filename in tqdm(os.listdir(path_to_masks), desc='Mask filenames storing..'):\n",
    "        frame_name = filename.split('.')[0]\n",
    "        frame_names.append(frame_name)\n",
    "    for filename in tqdm(os.listdir(path_to_all_images), desc='Images copying..'):\n",
    "        file_path = os.path.abspath(path_to_all_images + '\\\\' + filename)\n",
    "        frame_name = filename.split('.')[0]\n",
    "        if frame_name in frame_names:\n",
    "            new_file_path = path_to_images + '\\\\' + filename\n",
    "            shutil.copyfile(file_path, new_file_path)\n",
    "\n",
    "get_images_from_masks(\n",
    "    r\"<PATH TO ALL IMAGES>\",\n",
    "    r\"<PATH TO MASKS SEGMENT>\",\n",
    "    r\"<PATH TO IMAGES>\"\n",
    ")"
   ]
  }
 ],
 "metadata": {
  "kernelspec": {
   "display_name": "unn_cw",
   "language": "python",
   "name": "python3"
  },
  "language_info": {
   "codemirror_mode": {
    "name": "ipython",
    "version": 3
   },
   "file_extension": ".py",
   "mimetype": "text/x-python",
   "name": "python",
   "nbconvert_exporter": "python",
   "pygments_lexer": "ipython3",
   "version": "3.10.14"
  }
 },
 "nbformat": 4,
 "nbformat_minor": 2
}
