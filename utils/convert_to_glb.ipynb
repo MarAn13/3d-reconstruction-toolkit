{
 "cells": [
  {
   "cell_type": "markdown",
   "metadata": {},
   "source": [
    "### Converter \n",
    ".glb, .ply (with external resources) converted to .glb (with internal resources)"
   ]
  },
  {
   "cell_type": "code",
   "execution_count": 34,
   "metadata": {},
   "outputs": [],
   "source": [
    "from gltflib import GLTF\n",
    "\n",
    "def convert_to_glb(path_to_model, path_to_converted_model):\n",
    "    \"\"\"\n",
    "    path_to_model: absolute or relative path to .obj or .ply model\n",
    "    path_to_converted_model: absolute or relative path to converted .glb model\n",
    "    \"\"\"\n",
    "    # pass model with texture to gltf converter\n",
    "    gltf = GLTF.load(path_to_model, load_file_resources=True)\n",
    "    gltf.export(path_to_converted_model)\n",
    "\n",
    "path_to_model = r\"<PATH TO .GLB MODEL>\"\n",
    "path_to_converted_model = r\"<PATH TO CONVERTED MODEL>\"\n",
    "convert_to_glb(path_to_model, path_to_converted_model)"
   ]
  },
  {
   "cell_type": "markdown",
   "metadata": {},
   "source": [
    "#### Convert pointcloud to mesh"
   ]
  },
  {
   "cell_type": "code",
   "execution_count": 32,
   "metadata": {},
   "outputs": [
    {
     "name": "stdout",
     "output_type": "stream",
     "text": [
      "[Open3D WARNING] geometry::TriangleMesh appears to be a geometry::PointCloud (only contains vertices, but no triangles).\n"
     ]
    },
    {
     "data": {
      "text/plain": [
       "True"
      ]
     },
     "execution_count": 32,
     "metadata": {},
     "output_type": "execute_result"
    }
   ],
   "source": [
    "import open3d as o3d\n",
    "\n",
    "mesh = o3d.io.read_triangle_mesh(path_to_model, True)\n",
    "o3d.io.write_triangle_mesh(path_to_converted_model, mesh)"
   ]
  },
  {
   "cell_type": "markdown",
   "metadata": {},
   "source": [
    "### Capture model screenshot\n",
    " (only works when GUI is open?)"
   ]
  },
  {
   "cell_type": "code",
   "execution_count": 15,
   "metadata": {},
   "outputs": [],
   "source": [
    "import time\n",
    "import open3d as o3d\n",
    "import numpy as np\n",
    "\n",
    "# Load the .glb 3D model\n",
    "model_path = r\"<PATH TO .GLB MODEL>\"\n",
    "mesh = o3d.io.read_triangle_mesh(model_path, True)\n",
    "\n",
    "#mesh = mesh.translate((0,0,0))\n",
    "mesh.rotate(mesh.get_rotation_matrix_from_xyz((0,np.pi,np.pi)))\n",
    "\n",
    "# Visualize Point Cloud\n",
    "vis = o3d.visualization.Visualizer()\n",
    "vis.create_window()\n",
    "vis.add_geometry(mesh)\n",
    "\n",
    "# Capture image\n",
    "time.sleep(1)\n",
    "vis.capture_screen_image('cameraparams_flip.png', True)\n",
    "# image = vis.capture_screen_float_buffer()\n",
    "\n",
    "# Close\n",
    "vis.destroy_window()"
   ]
  }
 ],
 "metadata": {
  "kernelspec": {
   "display_name": "unn_cw",
   "language": "python",
   "name": "python3"
  },
  "language_info": {
   "codemirror_mode": {
    "name": "ipython",
    "version": 3
   },
   "file_extension": ".py",
   "mimetype": "text/x-python",
   "name": "python",
   "nbconvert_exporter": "python",
   "pygments_lexer": "ipython3",
   "version": "3.10.14"
  }
 },
 "nbformat": 4,
 "nbformat_minor": 2
}
